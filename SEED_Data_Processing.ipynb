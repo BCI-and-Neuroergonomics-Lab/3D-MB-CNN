{
  "nbformat": 4,
  "nbformat_minor": 0,
  "metadata": {
    "colab": {
      "name": "SEED Data Processing.ipynb",
      "provenance": [],
      "collapsed_sections": [],
      "authorship_tag": "ABX9TyPIrFy/LJmvE1qYTy6D9L3X",
      "include_colab_link": true
    },
    "kernelspec": {
      "name": "python3",
      "display_name": "Python 3"
    },
    "language_info": {
      "name": "python"
    }
  },
  "cells": [
    {
      "cell_type": "markdown",
      "metadata": {
        "id": "view-in-github",
        "colab_type": "text"
      },
      "source": [
        "<a href=\"https://colab.research.google.com/github/BCI-and-Neuroergonomics-Lab/3D-MB-CNN/blob/dev/SEED_Data_Processing.ipynb\" target=\"_parent\"><img src=\"https://colab.research.google.com/assets/colab-badge.svg\" alt=\"Open In Colab\"/></a>"
      ]
    },
    {
      "cell_type": "markdown",
      "metadata": {
        "id": "toxVGk3hLTws"
      },
      "source": [
        "Mount Drive"
      ]
    },
    {
      "cell_type": "code",
      "metadata": {
        "colab": {
          "base_uri": "https://localhost:8080/"
        },
        "id": "oPxdtyc_LUWg",
        "outputId": "2c9a59a6-7fce-4d72-c090-d3b36e4a199a"
      },
      "source": [
        "# Loading your drive so CoLab has access to it\n",
        "from google.colab import drive\n",
        "drive.mount('/content/drive')"
      ],
      "execution_count": null,
      "outputs": [
        {
          "output_type": "stream",
          "name": "stdout",
          "text": [
            "Drive already mounted at /content/drive; to attempt to forcibly remount, call drive.mount(\"/content/drive\", force_remount=True).\n"
          ]
        }
      ]
    },
    {
      "cell_type": "markdown",
      "metadata": {
        "id": "LEEriEuYLG7C"
      },
      "source": [
        "Imports"
      ]
    },
    {
      "cell_type": "code",
      "metadata": {
        "id": "du1xZaGyBgN6"
      },
      "source": [
        "import os, sys, re\n",
        "from scipy.io import loadmat\n",
        "from sklearn.model_selection import train_test_split\n",
        "import numpy as np\n",
        "from glob import glob"
      ],
      "execution_count": null,
      "outputs": []
    },
    {
      "cell_type": "markdown",
      "metadata": {
        "id": "GGUVAcJWLcbx"
      },
      "source": [
        "Constants\n"
      ]
    },
    {
      "cell_type": "code",
      "metadata": {
        "id": "g4-7chSuLd0q"
      },
      "source": [
        "# Data Processing Mode ('3D' or '2D')\n",
        "\n",
        "MODE = '3D'\n",
        "\n",
        "# File Patterns for Data Files\n",
        "\n",
        "FILE_PATTERN = \"_*.mat\"\n",
        "SUFFIX_3D_DIRS = \"_3d/\"\n",
        "SUFFIX_2D_DIRS = \"_2d/\"\n",
        "\n",
        "# Data Directories\n",
        "DEFAULT_DIR = \"/content/drive/MyDrive/BCI-Lab-Drive/Datasets/SEED/SEED_IV/eeg_raw_data/\"\n",
        "\n",
        "PROCESSED_DIR = \"/content/drive/MyDrive/BCI-Lab-Drive/Datasets/SEED/SEED_IV_processed\"\n",
        "\n",
        "CROPPED_DIR = \"/content/drive/MyDrive/BCI-Lab-Drive/Datasets/SEED/SEED_IV_cropped\"\n",
        "\n",
        "AVERAGED_DIR = \"/content/drive/MyDrive/BCI-Lab-Drive/Datasets/SEED/SEED_IV_averaged\"\n",
        "\n",
        "SHUFFLED_DIR = \"/content/drive/MyDrive/BCI-Lab-Drive/Datasets/SEED/SEED_IV_shuffled\"\n",
        "\n",
        "# Data Split\n",
        "\n",
        "TRAIN_DIR_APPEND = \"train/\"\n",
        "\n",
        "VAL_DIR_APPEND = \"val/\"\n",
        "\n",
        "TEST_DIR_APPEND = \"test/\"\n",
        "\n",
        "SPLIT_TYPES = ('train', 'test', 'val')\n",
        "SPLIT_DIR_DICT = {'train': TRAIN_DIR_APPEND, 'test': TEST_DIR_APPEND, 'val': VAL_DIR_APPEND}\n",
        "\n",
        "# Split Ratios, results in a 60/20/20 split\n",
        "# First data is split between training and val/test\n",
        "# Second val/test is split into val and test\n",
        "TRAIN_SPLIT = 0.6\n",
        "TEST_SPLIT = 0.5\n",
        "\n",
        "SHUFFLE_SPLITS = True\n",
        "\n",
        "# Data Processing Parameters\n",
        "\n",
        "# Initial time window extracted from raw data\n",
        "WINDOW = 3\n",
        "# Length of self-assessment following video\n",
        "SA_DUR = 45\n",
        "# Data frequency\n",
        "FREQ = 200\n",
        "# Number of classes\n",
        "NUM_CLASSES = 4\n",
        "# Number of subjects\n",
        "NUM_SUBJECTS = 15\n",
        "# Number of different sessions\n",
        "NUM_SESSIONS = 3\n",
        "# Number of trials in each session\n",
        "TRIALS_PER_SESSION = 24\n",
        "# X dim of 3D data\n",
        "X_DIM_3D = 7\n",
        "# Y dim of 3D data\n",
        "Y_DIM_3D = 6\n",
        "# Window size post cropping\n",
        "WINDOW_SIZE = 313\n",
        "# Step size while cropping\n",
        "STEP_SIZE = 20\n",
        "# Which channels are included, matched with BCICIV_2a dataset channels\n",
        "INCLUDE = (9, 16, 17, 18, 19, 20, 24, 25, 26, 27, 28, 29, 30, 34, 35, 36, 37, 38, 44, 45, 46, 52)\n",
        "# Labels for dataset trials\n",
        "LABELS = {1:(1, 2, 3, 0, 2, 0, 0, 1, 0, 1, 2, 1, 1, 1, 2, 3, 2, 2, 3, 3, 0, 3, 0, 3), 2:(2, 1, 3, 0, 0, 2, 0, 2, 3, 3, 2, 3, 2, 0, 1, 1, 2, 1, 0, 3, 0, 1, 3, 1), 3:(1, 2, 2, 1, 3, 3, 3, 1, 1, 2, 1, 0, 2, 3, 3, 0, 2, 3, 0, 0, 2, 0, 1, 0)} "
      ],
      "execution_count": null,
      "outputs": []
    },
    {
      "cell_type": "markdown",
      "metadata": {
        "id": "jk1RYyTXMCLg"
      },
      "source": [
        "Data Processing Class"
      ]
    },
    {
      "cell_type": "code",
      "metadata": {
        "id": "P3jheDD2MBu-"
      },
      "source": [
        "class DataProcessing:\n",
        "  def __init__(self, data_dir=DEFAULT_DIR, mode='3D'):\n",
        "    if (mode != '3D' and mode != '2D'):\n",
        "      raise Exception(\"Invalid Data Dimension, please use '3D' or '2D'.\")\n",
        "    self.dim = mode\n",
        "    self.data_files = {}\n",
        "    self.data_file_counts = {}\n",
        "    for subject in range(1, NUM_SUBJECTS+1):\n",
        "      self.data_files[subject] = []\n",
        "      for session in range(1, NUM_SESSIONS+1):\n",
        "        data_files_pattern = data_dir + str(session) + \"/\" + str(subject) + FILE_PATTERN\n",
        "        self.data_files[subject].append(glob(data_files_pattern)[0])\n",
        "\n",
        "    for subject in self.data_files:\n",
        "      key = len(self.data_files[subject])\n",
        "      if (key in self.data_file_counts):\n",
        "        self.data_file_counts[key].append(subject)\n",
        "      else:\n",
        "        self.data_file_counts[key] = [subject]\n",
        "  \n",
        "    for count in self.data_file_counts:\n",
        "      print(\"Found {} Files for the following Subjects: \".format(count))\n",
        "      print(self.data_file_counts[count])\n",
        "\n",
        "  def __getSlice1D(self, raw, channel):\n",
        "    dur = raw.shape[1]\n",
        "    ind2 = dur - SA_DUR*FREQ\n",
        "    ind1 = ind2 - int(WINDOW*FREQ)\n",
        "    return raw[channel, ind1:ind2]\n",
        "  \n",
        "  def __getSliceFull2D(self, raw):\n",
        "    trial = np.zeros((len(INCLUDE), WINDOW*FREQ))\n",
        "    for ind, channel in enumerate(INCLUDE):\n",
        "      trial[ind] = self.__getSlice1D(raw, channel)\n",
        "    return trial\n",
        "\n",
        "  def __getSliceFull3D(self, raw):\n",
        "    trial = np.zeros((X_DIM_3D, Y_DIM_3D, WINDOW*FREQ))\n",
        "    for channel in INCLUDE:\n",
        "      x, y = self.__convertIndices(channel)\n",
        "      trial[x, y] = self.__getSlice1D(raw, channel)\n",
        "    return trial\n",
        "\n",
        "  def __convertIndices(self, channel):\n",
        "     xDict = {9:3, 16:1, 17:2, 18:3, 19:4, 20:5, 24:0, 25:1, 26:2, 27:3, 28:4, 29:5, 30:6, 34:1, 35:2, 36:3, 37:4, 38:5, 44:2, 45:3, 46:4, 52:3}    \n",
        "     yDict = {9:0, 16:1, 17:1, 18:1, 19:1, 20:1, 24:2, 25:2, 26:2, 27:2, 28:2, 29:2, 30:2, 34:3, 35:3, 36:3, 37:3, 38:3, 44:4, 45:4, 46:4, 52:5}\n",
        "     return xDict[channel], yDict[channel]\n",
        "\n",
        "  def __liveProgress(self, tag, current, max):\n",
        "    output = '\\r' + tag + \" - [\"\n",
        "    for i in range(current):\n",
        "      output += '='\n",
        "    for i in range(max - current):\n",
        "      output += '-'\n",
        "    print(output + \"] - {}/{} - {:.2%}\".format(current, max, current/max), end='')\n",
        "\n",
        "  def processData(self):\n",
        "    self.processed_data = {'train': {}, 'test': {}, 'val': {}}\n",
        "    if (self.dim == '3D'):\n",
        "      data_shape = (NUM_SESSIONS*TRIALS_PER_SESSION, X_DIM_3D, Y_DIM_3D, int(WINDOW*FREQ))\n",
        "    elif (self.dim == '2D'):\n",
        "      data_shape = (NUM_SESSIONS*TRIALS_PER_SESSION, len(INCLUDE), int(WINDOW*FREQ))\n",
        "    else:\n",
        "      raise Exception(\"Invalid Data Dimension, please use '3D' or '2D'.\")\n",
        "    key_shape = (NUM_SESSIONS*TRIALS_PER_SESSION, NUM_CLASSES)\n",
        "    for subject in range(1, NUM_SUBJECTS+1):\n",
        "      self.__liveProgress(\"Processing Data\", subject, NUM_SUBJECTS)\n",
        "\n",
        "      self.processed_data['train'][subject] = {}\n",
        "      self.processed_data['test'][subject] = {}\n",
        "      self.processed_data['val'][subject] = {}\n",
        "\n",
        "      data = np.zeros(data_shape)\n",
        "      keys = np.zeros(key_shape)\n",
        "      ind = 0\n",
        "      for data_file in self.data_files[subject]:\n",
        "        session = int(re.findall(r'/[1-3]/', data_file)[0].strip(\"/\"))\n",
        "        raw = loadmat(data_file)\n",
        "        for key in raw.keys():\n",
        "          trial_num = re.findall(r'-?\\d+', key)\n",
        "          if (len(trial_num) > 0):\n",
        "            trial_num = int(trial_num[0])\n",
        "            if (self.dim == '3D'):\n",
        "              d = self.__getSliceFull3D(raw[key])\n",
        "            elif (self.dim == '2D'):\n",
        "              d = self.__getSliceFull2D(raw[key])\n",
        "            data[ind] = d\n",
        "            keys[ind][int(LABELS[session][trial_num-1])] = 1\n",
        "            ind += 1\n",
        "\n",
        "      data_train, data_test_val, key_train, key_test_val = train_test_split(data, keys, train_size=TRAIN_SPLIT, shuffle=SHUFFLE_SPLITS, stratify=(keys if SHUFFLE_SPLITS else None))\n",
        "      data_test, data_val, key_test, key_val = train_test_split(data_test_val, key_test_val, train_size=TEST_SPLIT, shuffle=SHUFFLE_SPLITS, stratify=(key_test_val if SHUFFLE_SPLITS else None))\n",
        "\n",
        "      self.processed_data['train'][subject] = (data_train, key_train)\n",
        "      self.processed_data['test'][subject] = (data_test, key_test)\n",
        "      self.processed_data['val'][subject] = (data_val, key_val)\n",
        "\n",
        "    print(\"\\rFinished processing data\")\n",
        "\n",
        "  def saveProcessedData(self):\n",
        "    if (self.dim == '3D'):\n",
        "      fileBase = PROCESSED_DIR + SUFFIX_3D_DIRS\n",
        "    elif (self.dim == '2D'):\n",
        "      fileBase = PROCESSED_DIR + SUFFIX_2D_DIRS\n",
        "    else:\n",
        "      raise Exception(\"Invalid Data Dimension, please use '3D' or '2D'.\")\n",
        "    for split_num, split_type in enumerate(SPLIT_TYPES):\n",
        "      for subject in range(1, NUM_SUBJECTS+1):\n",
        "        self.__liveProgress(\"Loading Processed Data\", (split_num)*NUM_SUBJECTS + subject, NUM_SUBJECTS*len(SPLIT_TYPES))\n",
        "        np.save(fileBase + SPLIT_DIR_DICT[split_type] + \"A0\" + str(subject) + \"D_processed.npy\", self.processed_data[split_type][subject][0])\n",
        "        np.save(fileBase + SPLIT_DIR_DICT[split_type] + \"A0\" + str(subject) + \"K_processed.npy\", self.processed_data[split_type][subject][1])\n",
        "    print(\"\\rFinished saving processed data\")\n",
        "\n",
        "  def loadProcessedData(self, mode = None):\n",
        "    if (mode == None):\n",
        "      mode = self.dim\n",
        "    if (mode == '3D'):\n",
        "      fileBase = PROCESSED_DIR + SUFFIX_3D_DIRS\n",
        "    elif (mode == '2D'):\n",
        "      fileBase = PROCESSED_DIR + SUFFIX_2D_DIRS\n",
        "    else:\n",
        "      raise Exception(\"Invalid Data Dimension, please use '3D' or '2D'.\")\n",
        "    self.processed_data = {}\n",
        "    fileSuffD = \"D_processed.npy\"\n",
        "    fileSuffK = \"K_processed.npy\"\n",
        "    for split_num, split_type in enumerate(SPLIT_TYPES):\n",
        "      self.processed_data[split_type] = {}\n",
        "      for subject in range(1, NUM_SUBJECTS+1):\n",
        "        self.__liveProgress(\"Loading Processed Data\", (split_num)*NUM_SUBJECTS + subject, NUM_SUBJECTS*len(SPLIT_TYPES))\n",
        "        d = np.load(fileBase + SPLIT_DIR_DICT[split_type] + \"A0\" + str(subject) + fileSuffD)\n",
        "        k = np.load(fileBase + SPLIT_DIR_DICT[split_type] + \"A0\" + str(subject) + fileSuffK)\n",
        "        self.processed_data[split_type][subject] = (d, k)\n",
        "    print(\"\\rFinished loading processed data\")\n",
        "  \n",
        "  def cropData(self):\n",
        "    steps = ((int(WINDOW*FREQ) - WINDOW_SIZE) // STEP_SIZE) + 1\n",
        "    self.cropped_data = {}\n",
        "    for split_num, split_type in enumerate(SPLIT_TYPES):\n",
        "      self.cropped_data[split_type] = {}\n",
        "      for subject in range(1, NUM_SUBJECTS+1):\n",
        "        self.__liveProgress(\"Cropping Data\", (split_num)*NUM_SUBJECTS + subject, NUM_SUBJECTS*len(SPLIT_TYPES))\n",
        "        if (self.dim == '3D'):\n",
        "          data_shape = (int(steps*len(self.processed_data[split_type][subject][0])), X_DIM_3D, Y_DIM_3D, WINDOW_SIZE)\n",
        "        elif (self.dim == '2D'):\n",
        "          data_shape = (int(steps*len(self.processed_data[split_type][subject][0])), len(INCLUDE), WINDOW_SIZE)\n",
        "        else:\n",
        "          raise Exception(\"Invalid Data Dimension, please use '3D' or '2D'.\")\n",
        "        key_shape = (int(steps*len(self.processed_data[split_type][subject][1])), NUM_CLASSES)\n",
        "        d = np.zeros(data_shape)\n",
        "        for sample in range(len(self.processed_data[split_type][subject][0])):\n",
        "          for step in range(steps):\n",
        "            if (self.dim == '3D'):\n",
        "              d[int(sample*steps + step)] = self.processed_data[split_type][subject][0][sample][:, :, (step*STEP_SIZE):(step*STEP_SIZE)+WINDOW_SIZE]\n",
        "            elif (self.dim == '2D'):\n",
        "              d[int(sample*steps + step)] = self.processed_data[split_type][subject][0][sample][:, (step*STEP_SIZE):(step*STEP_SIZE)+WINDOW_SIZE]\n",
        "        k = np.zeros(key_shape)\n",
        "        for sample in range(len(self.processed_data[split_type][subject][1])):\n",
        "          for step in range(steps):\n",
        "            k[int(sample*steps + step)] = self.processed_data[split_type][subject][1][sample]\n",
        "        self.cropped_data[split_type][subject] = (d, k)\n",
        "    print(\"\\rFinished cropping data\")\n",
        "\n",
        "  def saveCroppedData(self):\n",
        "    if (self.dim == '3D'):\n",
        "      fileBase = CROPPED_DIR + SUFFIX_3D_DIRS\n",
        "    elif (self.dim == '2D'):\n",
        "      fileBase = CROPPED_DIR + SUFFIX_2D_DIRS\n",
        "    else:\n",
        "      raise Exception(\"Invalid Data Dimension, please use '3D' or '2D'.\")\n",
        "    for split_num, split_type in enumerate(SPLIT_TYPES):\n",
        "      for subject in range(1, NUM_SUBJECTS+1):\n",
        "        self.__liveProgress(\"Saving Cropped Data\", (split_num)*NUM_SUBJECTS + subject, NUM_SUBJECTS*len(SPLIT_TYPES))\n",
        "        np.save(fileBase + SPLIT_DIR_DICT[split_type] + \"A0\" + str(subject) + \"D_cropped.npy\", self.cropped_data[split_type][subject][0])\n",
        "        np.save(fileBase + SPLIT_DIR_DICT[split_type] + \"A0\" + str(subject) + \"K_cropped.npy\", self.cropped_data[split_type][subject][1])\n",
        "    print(\"\\rFinished saving cropped data\")\n",
        "  \n",
        "  def loadCroppedData(self, mode = None):\n",
        "    if (mode == None):\n",
        "      mode = self.dim\n",
        "    if (mode == '3D'):\n",
        "      fileBase = CROPPED_DIR + SUFFIX_3D_DIRS\n",
        "    elif (mode == '2D'):\n",
        "      fileBase = CROPPED_DIR + SUFFIX_2D_DIRS\n",
        "    else:\n",
        "      raise Exception(\"Invalid Data Dimension, please use '3D' or '2D'.\")\n",
        "    self.cropped_data = {}\n",
        "    fileSuffD = \"D_cropped.npy\"\n",
        "    fileSuffK = \"K_cropped.npy\"\n",
        "    for split_num, split_type in enumerate(SPLIT_TYPES):\n",
        "      self.cropped_data[split_type] = {}\n",
        "      for subject in range(1, NUM_SUBJECTS+1):\n",
        "        self.__liveProgress(\"Loading Cropped Data\", (split_num)*NUM_SUBJECTS + subject, NUM_SUBJECTS*len(SPLIT_TYPES))\n",
        "        d = np.load(fileBase + SPLIT_DIR_DICT[split_type] + \"A0\" + str(subject) + fileSuffD)\n",
        "        k = np.load(fileBase + SPLIT_DIR_DICT[split_type] + \"A0\" + str(subject) + fileSuffK)\n",
        "        self.cropped_data[split_type][subject] = (d, k)\n",
        "    print(\"\\rFinished loading cropped data\")\n",
        "  \n",
        "  def averageData(self):\n",
        "    self.averaged_data = {}\n",
        "    if (self.dim == '3D'):\n",
        "      data_shape = (X_DIM_3D, Y_DIM_3D)\n",
        "    elif (self.dim == '2D'):\n",
        "      data_shape = (len(INCLUDE))\n",
        "    else:\n",
        "      raise Exception(\"Invalid Data Dimension, please use '3D' or '2D'.\")\n",
        "    for split_num, split_type in enumerate(SPLIT_TYPES):\n",
        "      self.averaged_data[split_type] = {}\n",
        "      for subject in range(1, NUM_SUBJECTS+1):\n",
        "        self.__liveProgress(\"Averaging Data\", (split_num)*NUM_SUBJECTS + subject, NUM_SUBJECTS*len(SPLIT_TYPES))\n",
        "        self.averaged_data[split_type][subject] = (np.zeros(self.cropped_data[split_type][subject][0].shape), self.cropped_data[split_type][subject][1])\n",
        "        for sample in range(len(self.cropped_data[split_type][subject][0])):\n",
        "          a = np.zeros(data_shape)\n",
        "          if (self.dim == '3D'):\n",
        "            for x in range(X_DIM_3D):\n",
        "              for y in range(Y_DIM_3D):\n",
        "                a[x, y] = np.average(self.cropped_data[split_type][subject][0][sample][x, y])\n",
        "            a = np.repeat(a[:, :, np.newaxis], WINDOW_SIZE, axis=2)\n",
        "          elif (self.dim == '2D'):\n",
        "            for channel in range(len(INCLUDE)):\n",
        "              a[channel] = np.average(self.cropped_data[split_type][subject][0][sample][channel])\n",
        "            a = np.repeat(a[:, np.newaxis], WINDOW_SIZE, axis=1)\n",
        "          else:   \n",
        "            raise Exception(\"Invalid Data Dimension, please use '3D' or '2D'.\")\n",
        "          self.averaged_data[split_type][subject][0][sample] = self.cropped_data[split_type][subject][0][sample] - a\n",
        "    print(\"\\rFinished averaging data\")\n",
        "\n",
        "  def saveAveragedData(self):\n",
        "    if (self.dim == '3D'):\n",
        "      fileBase = AVERAGED_DIR + SUFFIX_3D_DIRS\n",
        "    elif (self.dim == '2D'):\n",
        "      fileBase = AVERAGED_DIR + SUFFIX_2D_DIRS\n",
        "    else:\n",
        "      raise Exception(\"Invalid Data Dimension, please use '3D' or '2D'.\")\n",
        "    for split_num, split_type in enumerate(SPLIT_TYPES):\n",
        "      for subject in range(1, NUM_SUBJECTS+1):\n",
        "        self.__liveProgress(\"Saving Averaged Data\", (split_num)*NUM_SUBJECTS + subject, NUM_SUBJECTS*len(SPLIT_TYPES))\n",
        "        np.save(fileBase + SPLIT_DIR_DICT[split_type] + \"A0\" + str(subject) + \"D_averaged.npy\", self.averaged_data[split_type][subject][0])\n",
        "        np.save(fileBase + SPLIT_DIR_DICT[split_type] + \"A0\" + str(subject) + \"K_averaged.npy\", self.averaged_data[split_type][subject][1])\n",
        "    print(\"\\rFinished saving averaged data\")\n",
        "\n",
        "  def loadAveragedData(self, mode = None):\n",
        "    if (mode == None):\n",
        "      mode = self.dim\n",
        "    if (mode == '3D'):\n",
        "      fileBase = AVERAGED_DIR + SUFFIX_3D_DIRS\n",
        "    elif (mode == '2D'):\n",
        "      fileBase = AVERAGED_DIR + SUFFIX_2D_DIRS\n",
        "    else:\n",
        "      raise Exception(\"Invalid Data Dimension, please use '3D' or '2D'.\")\n",
        "    self.averaged_data = {}\n",
        "    fileSuffD = \"D_averaged.npy\"\n",
        "    fileSuffK = \"K_averaged.npy\"\n",
        "    for split_num, split_type in enumerate(SPLIT_TYPES):\n",
        "      self.averaged_data[split_type] = {}\n",
        "      for subject in range(1, NUM_SUBJECTS+1):\n",
        "        self.__liveProgress(\"Loading Averaged Data\", (split_num)*NUM_SUBJECTS + subject, NUM_SUBJECTS*len(SPLIT_TYPES))\n",
        "        d = np.load(fileBase + SPLIT_DIR_DICT[split_type] + \"A0\" + str(subject) + fileSuffD)\n",
        "        k = np.load(fileBase + SPLIT_DIR_DICT[split_type] + \"A0\" + str(subject) + fileSuffK)\n",
        "        self.averaged_data[split_type][subject] = (d, k)\n",
        "    print(\"\\rFinished loading averaged data\")\n",
        "\n",
        "  def shuffleData(self):\n",
        "    self.shuffled_data = {}\n",
        "    for split_num, split_type in enumerate(SPLIT_TYPES):\n",
        "      self.shuffled_data[split_type] = {}\n",
        "      for subject in range(1, NUM_SUBJECTS+1):\n",
        "        self.__liveProgress(\"Shuffling Data\", (split_num)*NUM_SUBJECTS + subject, NUM_SUBJECTS*len(SPLIT_TYPES))\n",
        "        p = np.random.permutation(len(self.averaged_data[split_type][subject][0]))\n",
        "        self.shuffled_data[split_type][subject] = (self.averaged_data[split_type][subject][0][p], self.averaged_data[split_type][subject][1][p])\n",
        "    print(\"\\rFinished shuffling data\")\n",
        "  \n",
        "  def saveShuffledData(self):\n",
        "    if (self.dim == '3D'):\n",
        "      fileBase = SHUFFLED_DIR + SUFFIX_3D_DIRS\n",
        "    elif (self.dim == '2D'):\n",
        "      fileBase = SHUFFLED_DIR + SUFFIX_2D_DIRS\n",
        "    else:\n",
        "      raise Exception(\"Invalid Data Dimension, please use '3D' or '2D'.\")\n",
        "    for split_num, split_type in enumerate(SPLIT_TYPES):\n",
        "      for subject in range(1, NUM_SUBJECTS+1):\n",
        "        self.__liveProgress(\"Saving Shuffled Data\", (split_num)*NUM_SUBJECTS + subject, NUM_SUBJECTS*len(SPLIT_TYPES))\n",
        "        np.save(fileBase + SPLIT_DIR_DICT[split_type] + \"A0\" + str(subject) + \"D_shuffled.npy\", self.shuffled_data[split_type][subject][0])\n",
        "        np.save(fileBase + SPLIT_DIR_DICT[split_type] + \"A0\" + str(subject) + \"K_shuffled.npy\", self.shuffled_data[split_type][subject][1])\n",
        "    print(\"\\rFinished saving shuffled data\")\n",
        "\n",
        "  def loadShuffledData(self, mode = None):\n",
        "    if (mode == None):\n",
        "      mode = self.dim\n",
        "    if (mode == '3D'):\n",
        "      fileBase = SHUFFLED_DIR + SUFFIX_3D_DIRS\n",
        "    elif (mode == '2D'):\n",
        "      fileBase = SHUFFLED_DIR + SUFFIX_2D_DIRS\n",
        "    else:\n",
        "      raise Exception(\"Invalid Data Dimension, please use '3D' or '2D'.\")\n",
        "    self.shuffled_data = {}\n",
        "    fileSuffD = \"D_shuffled.npy\"\n",
        "    fileSuffK = \"K_shuffled.npy\"\n",
        "    for split_num, split_type in enumerate(SPLIT_TYPES):\n",
        "      self.shuffled_data[split_type] = {}\n",
        "      for subject in range(1, NUM_SUBJECTS+1):\n",
        "        self.__liveProgress(\"Loading Shuffled Data\", (split_num)*NUM_SUBJECTS + subject, NUM_SUBJECTS*len(SPLIT_TYPES))\n",
        "        d = np.load(fileBase + SPLIT_DIR_DICT[split_type] + \"A0\" + str(subject) + fileSuffD)\n",
        "        k = np.load(fileBase + SPLIT_DIR_DICT[split_type] + \"A0\" + str(subject) + fileSuffK)\n",
        "        self.shuffled_data[split_type][subject] = (d, k)\n",
        "    print(\"\\rFinished loading shuffled data\")\n",
        "\n",
        "  def getProcessedData(self, split_type, subject):\n",
        "    return self.processed_data[split_type][subject][0], self.processed_data[split_type][subject][1]\n",
        "\n",
        "  def getCroppedData(self, split_type, subject):\n",
        "    return self.cropped_data[split_type][subject][0], self.cropped_data[split_type][subject][1]\n",
        "\n",
        "  def getAveragedData(self, split_type, subject):  \n",
        "    return self.averaged_data[split_type][subject][0], self.averaged_data[split_type][subject][1]\n",
        "\n",
        "  def getShuffledData(self, split_type, subject):\n",
        "    return self.shuffled_data[split_type][subject][0], self.shuffled_data[split_type][subject][1]  "
      ],
      "execution_count": null,
      "outputs": []
    },
    {
      "cell_type": "markdown",
      "metadata": {
        "id": "PKwgjKyYOtQ-"
      },
      "source": [
        "Process Data\n"
      ]
    },
    {
      "cell_type": "code",
      "metadata": {
        "colab": {
          "base_uri": "https://localhost:8080/"
        },
        "id": "6rA3gSjrOub4",
        "outputId": "cd224ac0-b6c9-4a81-a4dd-eb41721295e4"
      },
      "source": [
        "processor = DataProcessing(mode=MODE)\n",
        "\n",
        "processor.processData()\n",
        "\n",
        "processor.saveProcessedData()\n"
      ],
      "execution_count": null,
      "outputs": [
        {
          "output_type": "stream",
          "name": "stdout",
          "text": [
            "Found 3 Files for the following Subjects: \n",
            "[1, 2, 3, 4, 5, 6, 7, 8, 9, 10, 11, 12, 13, 14, 15]\n",
            "Finished processing data\n",
            "Finished saving processed data\n"
          ]
        }
      ]
    },
    {
      "cell_type": "code",
      "metadata": {
        "colab": {
          "base_uri": "https://localhost:8080/"
        },
        "id": "dLYuS3FO7Bvu",
        "outputId": "a6f41e4d-46d3-4c7f-de53-77d4ff3e14bf"
      },
      "source": [
        "processor = DataProcessing(mode=MODE)\n",
        "\n",
        "processor.loadProcessedData(mode=MODE)\n",
        "\n",
        "processor.cropData()\n",
        "\n",
        "processor.saveCroppedData()"
      ],
      "execution_count": null,
      "outputs": [
        {
          "output_type": "stream",
          "name": "stdout",
          "text": [
            "Found 3 Files for the following Subjects: \n",
            "[1, 2, 3, 4, 5, 6, 7, 8, 9, 10, 11, 12, 13, 14, 15]\n",
            "Finished loading processed data\n",
            "Finished cropping data\n",
            "Finished saving cropped data\n"
          ]
        }
      ]
    },
    {
      "cell_type": "code",
      "metadata": {
        "colab": {
          "base_uri": "https://localhost:8080/"
        },
        "id": "npVV2NqzZIrz",
        "outputId": "df831778-3e11-4ca0-9b9f-346ef27c468c"
      },
      "source": [
        "processor = DataProcessing(mode=MODE)\n",
        "\n",
        "processor.loadCroppedData(mode=MODE)\n",
        "\n",
        "processor.averageData()\n",
        "\n",
        "processor.saveAveragedData()"
      ],
      "execution_count": null,
      "outputs": [
        {
          "output_type": "stream",
          "name": "stdout",
          "text": [
            "Found 3 Files for the following Subjects: \n",
            "[1, 2, 3, 4, 5, 6, 7, 8, 9, 10, 11, 12, 13, 14, 15]\n",
            "Finished loading cropped data\n",
            "Finished averaging data\n",
            "Finished saving averaged data\n"
          ]
        }
      ]
    },
    {
      "cell_type": "code",
      "metadata": {
        "colab": {
          "base_uri": "https://localhost:8080/"
        },
        "id": "ZucG5NpOaKHK",
        "outputId": "05e91a73-7414-4402-98ae-f645568ccd8a"
      },
      "source": [
        "processor = DataProcessing(mode=MODE)\n",
        "\n",
        "processor.loadAveragedData(mode=MODE)\n",
        "\n",
        "processor.shuffleData()\n",
        "\n",
        "processor.saveShuffledData()"
      ],
      "execution_count": null,
      "outputs": [
        {
          "output_type": "stream",
          "name": "stdout",
          "text": [
            "Found 3 Files for the following Subjects: \n",
            "[1, 2, 3, 4, 5, 6, 7, 8, 9, 10, 11, 12, 13, 14, 15]\n",
            "Finished loading averaged data\n",
            "Finished shuffling data\n",
            "Finished saving shuffled data\n"
          ]
        }
      ]
    },
    {
      "cell_type": "code",
      "metadata": {
        "colab": {
          "base_uri": "https://localhost:8080/"
        },
        "id": "2rpzLLWvd3Nc",
        "outputId": "0720f757-5404-4151-94a2-97e367e50d22"
      },
      "source": [
        "processor = DataProcessing(mode=MODE)\n",
        "processor.loadProcessedData(mode=MODE)\n",
        "processor.loadCroppedData(mode=MODE)\n",
        "processor.loadAveragedData(mode=MODE)\n",
        "processor.loadShuffledData(mode=MODE)"
      ],
      "execution_count": null,
      "outputs": [
        {
          "output_type": "stream",
          "name": "stdout",
          "text": [
            "Found 3 Files for the following Subjects: \n",
            "[1, 2, 3, 4, 5, 6, 7, 8, 9, 10, 11, 12, 13, 14, 15]\n",
            "Finished loading processed data\n",
            "Finished loading cropped data\n",
            "Finished loading averaged data\n",
            "Finished loading shuffled data\n"
          ]
        }
      ]
    },
    {
      "cell_type": "code",
      "metadata": {
        "id": "hP1t244tgoYL"
      },
      "source": [
        "import matplotlib.pyplot as plt\n",
        "\n",
        "def plot_label_distribution(Y):\n",
        "  counts = sum(Y)\n",
        "  x_labels = [str(val) for val in range(NUM_CLASSES)]\n",
        "\n",
        "  plt.bar(x_labels, counts)  # arguments are passed to plt.bar\n",
        "  plt.title(\"Y Label Distribution\")\n",
        "  plt.show()"
      ],
      "execution_count": null,
      "outputs": []
    },
    {
      "cell_type": "markdown",
      "source": [
        "# Inspecting Data"
      ],
      "metadata": {
        "id": "1nLIhZIl8apP"
      }
    },
    {
      "cell_type": "markdown",
      "source": [
        "## Inspecting Processed Data"
      ],
      "metadata": {
        "id": "pAIazu7x8cSO"
      }
    },
    {
      "cell_type": "code",
      "source": [
        "d, k = processor.getProcessedData('train', 1)\n",
        "\n",
        "print(\"X Data Shape: \")\n",
        "print(d.shape)\n",
        "print(\"Y Data Shape: \")\n",
        "print(k.shape)\n",
        "print(\"Label Distribution: \")\n",
        "print(sum(k))\n",
        "\n",
        "plot_label_distribution(k)\n",
        "\n",
        "N = 5\n",
        "print(\"First {} Labels\".format(N))\n",
        "print(k[:N])"
      ],
      "metadata": {
        "colab": {
          "base_uri": "https://localhost:8080/",
          "height": 489
        },
        "id": "ql1LHf7_8cmk",
        "outputId": "1fdf14d3-52fc-497b-bf9b-8d74fbb8d3d6"
      },
      "execution_count": null,
      "outputs": [
        {
          "output_type": "stream",
          "name": "stdout",
          "text": [
            "X Data Shape: \n",
            "(43, 7, 6, 600)\n",
            "Y Data Shape: \n",
            "(43, 4)\n",
            "Label Distribution: \n",
            "[11. 11. 10. 11.]\n"
          ]
        },
        {
          "output_type": "display_data",
          "data": {
            "image/png": "[encoded data removed]",
            "text/plain": [
              "<Figure size 432x288 with 1 Axes>"
            ]
          },
          "metadata": {
            "needs_background": "light"
          }
        },
        {
          "output_type": "stream",
          "name": "stdout",
          "text": [
            "First 5 Labels\n",
            "[[0. 0. 0. 1.]\n",
            " [0. 0. 0. 1.]\n",
            " [1. 0. 0. 0.]\n",
            " [1. 0. 0. 0.]\n",
            " [0. 0. 1. 0.]]\n"
          ]
        }
      ]
    },
    {
      "cell_type": "markdown",
      "source": [
        "## Inspecting Cropped Data"
      ],
      "metadata": {
        "id": "d4DFcozK8cyP"
      }
    },
    {
      "cell_type": "code",
      "source": [
        "d, k = processor.getCroppedData('train', 1)\n",
        "\n",
        "print(\"X Data Shape: \")\n",
        "print(d.shape)\n",
        "print(\"Y Data Shape: \")\n",
        "print(k.shape)\n",
        "print(\"Label Distribution: \")\n",
        "print(sum(k))\n",
        "\n",
        "plot_label_distribution(k)\n",
        "\n",
        "N = 5\n",
        "print(\"First {} Labels\".format(N))\n",
        "print(k[:N])"
      ],
      "metadata": {
        "colab": {
          "base_uri": "https://localhost:8080/",
          "height": 489
        },
        "id": "D-WZfsJk8dCh",
        "outputId": "075ab144-20d2-410f-8572-7b107e33644b"
      },
      "execution_count": null,
      "outputs": [
        {
          "output_type": "stream",
          "name": "stdout",
          "text": [
            "X Data Shape: \n",
            "(645, 7, 6, 313)\n",
            "Y Data Shape: \n",
            "(645, 4)\n",
            "Label Distribution: \n",
            "[165. 165. 150. 165.]\n"
          ]
        },
        {
          "output_type": "display_data",
          "data": {
            "image/png": "[encoded data removed]",
            "text/plain": [
              "<Figure size 432x288 with 1 Axes>"
            ]
          },
          "metadata": {
            "needs_background": "light"
          }
        },
        {
          "output_type": "stream",
          "name": "stdout",
          "text": [
            "First 5 Labels\n",
            "[[0. 0. 0. 1.]\n",
            " [0. 0. 0. 1.]\n",
            " [0. 0. 0. 1.]\n",
            " [0. 0. 0. 1.]\n",
            " [0. 0. 0. 1.]]\n"
          ]
        }
      ]
    },
    {
      "cell_type": "markdown",
      "source": [
        "## Inspecting Averaged Data"
      ],
      "metadata": {
        "id": "L_PWQVi58dL8"
      }
    },
    {
      "cell_type": "code",
      "source": [
        "d, k = processor.getAveragedData('train', 1)\n",
        "\n",
        "print(\"X Data Shape: \")\n",
        "print(d.shape)\n",
        "print(\"Y Data Shape: \")\n",
        "print(k.shape)\n",
        "print(\"Label Distribution: \")\n",
        "print(sum(k))\n",
        "\n",
        "plot_label_distribution(k)\n",
        "\n",
        "N = 5\n",
        "print(\"First {} Labels\".format(N))\n",
        "print(k[:N])"
      ],
      "metadata": {
        "colab": {
          "base_uri": "https://localhost:8080/",
          "height": 489
        },
        "id": "1UsoGTvM8dc1",
        "outputId": "08c710b3-01b6-457b-bea8-e3ceac0d235a"
      },
      "execution_count": null,
      "outputs": [
        {
          "output_type": "stream",
          "name": "stdout",
          "text": [
            "X Data Shape: \n",
            "(645, 7, 6, 313)\n",
            "Y Data Shape: \n",
            "(645, 4)\n",
            "Label Distribution: \n",
            "[165. 165. 150. 165.]\n"
          ]
        },
        {
          "output_type": "display_data",
          "data": {
            "image/png": "[encoded data removed]",
            "text/plain": [
              "<Figure size 432x288 with 1 Axes>"
            ]
          },
          "metadata": {
            "needs_background": "light"
          }
        },
        {
          "output_type": "stream",
          "name": "stdout",
          "text": [
            "First 5 Labels\n",
            "[[0. 0. 0. 1.]\n",
            " [0. 0. 0. 1.]\n",
            " [0. 0. 0. 1.]\n",
            " [0. 0. 0. 1.]\n",
            " [0. 0. 0. 1.]]\n"
          ]
        }
      ]
    },
    {
      "cell_type": "markdown",
      "source": [
        "## Inspecting Shuffled Data"
      ],
      "metadata": {
        "id": "dgWKc_bn8dsO"
      }
    },
    {
      "cell_type": "code",
      "source": [
        "d, k = processor.getShuffledData('train', 1)\n",
        "\n",
        "print(\"X Data Shape: \")\n",
        "print(d.shape)\n",
        "print(\"Y Data Shape: \")\n",
        "print(k.shape)\n",
        "print(\"Label Distribution: \")\n",
        "print(sum(k))\n",
        "\n",
        "plot_label_distribution(k)\n",
        "\n",
        "N = 5\n",
        "print(\"First {} Labels\".format(N))\n",
        "print(k[:N])"
      ],
      "metadata": {
        "colab": {
          "base_uri": "https://localhost:8080/",
          "height": 489
        },
        "id": "kWHeLh1i8d5o",
        "outputId": "0a505988-ca4c-48a5-fc1d-135dd4ed4c65"
      },
      "execution_count": null,
      "outputs": [
        {
          "output_type": "stream",
          "name": "stdout",
          "text": [
            "X Data Shape: \n",
            "(645, 7, 6, 313)\n",
            "Y Data Shape: \n",
            "(645, 4)\n",
            "Label Distribution: \n",
            "[165. 165. 150. 165.]\n"
          ]
        },
        {
          "output_type": "display_data",
          "data": {
            "image/png": "[encoded data removed]",
            "text/plain": [
              "<Figure size 432x288 with 1 Axes>"
            ]
          },
          "metadata": {
            "needs_background": "light"
          }
        },
        {
          "output_type": "stream",
          "name": "stdout",
          "text": [
            "First 5 Labels\n",
            "[[0. 0. 1. 0.]\n",
            " [0. 1. 0. 0.]\n",
            " [0. 1. 0. 0.]\n",
            " [0. 0. 1. 0.]\n",
            " [0. 0. 1. 0.]]\n"
          ]
        }
      ]
    }
  ]
}